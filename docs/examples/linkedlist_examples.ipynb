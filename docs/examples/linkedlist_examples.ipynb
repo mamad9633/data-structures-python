{
 "cells": [
  {
   "cell_type": "markdown",
   "metadata": {},
   "source": [
    "# Linked List Data Structure Examples\n",
    "\n",
    "This notebook demonstrates both basic operations and visualizations for the Linked List data structure."
   ]
  },
  {
   "cell_type": "code",
   "execution_count": null,
   "metadata": {},
   "outputs": [],
   "source": [
    "from data_structures import LinkedList\n",
    "import matplotlib.pyplot as plt"
   ]
  },
  {
   "cell_type": "markdown",
   "metadata": {},
   "source": [
    "## Basic Operations"
   ]
  },
  {
   "cell_type": "code",
   "execution_count": null,
   "metadata": {},
   "outputs": [],
   "source": [
    "# Create linked list\n",
    "ll = LinkedList()\n",
    "\n",
    "# Insert elements\n",
    "ll.insertAtBeginning(1)\n",
    "ll.insertAtEnd(3)\n",
    "ll.insertAfter(2, 0)\n",
    "\n",
    "print(\"After insertions:\")\n",
    "ll.traverse()\n",
    "\n",
    "# Search\n",
    "print(f\"\\nSearch for 2: {ll.search(2)}\")\n",
    "\n",
    "# Delete\n",
    "ll.deleteItem(1)\n",
    "print(\"\\nAfter deleting index 1:\")\n",
    "ll.traverse()"
   ]
  },
  {
   "cell_type": "markdown",
   "metadata": {},
   "source": [
    "## Visualizations"
   ]
  },
  {
   "cell_type": "code",
   "execution_count": null,
   "metadata": {},
   "outputs": [],
   "source": [
    "# Create new list for visualization\n",
    "ll = LinkedList()\n",
    "\n",
    "# Show empty list\n",
    "print(\"Empty list:\")\n",
    "ll.visualize()\n",
    "\n",
    "# Add elements and show changes\n",
    "ll.insertAtBeginning(1)\n",
    "ll.insertAtEnd(2)\n",
    "ll.insertAtEnd(3)\n",
    "print(\"\\nAfter insertions:\")\n",
    "ll.visualize()\n",
    "\n",
    "# Delete and show changes\n",
    "ll.deleteItem(1)\n",
    "print(\"\\nAfter deletion:\")\n",
    "ll.visualize()"
   ]
  }
 ],
 "metadata": {
  "kernelspec": {
   "display_name": "Python 3",
   "language": "python",
   "name": "python3"
  }
 },
 "nbformat": 4,
 "nbformat_minor": 4
}