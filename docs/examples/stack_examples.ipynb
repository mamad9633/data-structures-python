{
 "cells": [
  {
   "cell_type": "markdown",
   "metadata": {},
   "source": [
    "# Stack Data Structure Examples\n",
    "\n",
    "This notebook demonstrates both basic operations and visualizations for the Stack data structure."
   ]
  },
  {
   "cell_type": "code",
   "execution_count": null,
   "metadata": {},
   "outputs": [],
   "source": [
    "from data_structures import Stack\n",
    "import matplotlib.pyplot as plt"
   ]
  },
  {
   "cell_type": "markdown",
   "metadata": {},
   "source": [
    "## Basic Operations"
   ]
  },
  {
   "cell_type": "code",
   "execution_count": null,
   "metadata": {},
   "outputs": [],
   "source": [
    "# Create stack\n",
    "s = Stack()\n",
    "\n",
    "# Push elements\n",
    "s.push(1)\n",
    "s.push(2)\n",
    "s.push(3)\n",
    "\n",
    "# View top element\n",
    "print(f\"Top element: {s.peek()}\")\n",
    "\n",
    "# Pop element\n",
    "popped = s.pop()\n",
    "print(f\"Popped element: {popped}\")\n",
    "\n",
    "# Check if empty\n",
    "print(f\"Is stack empty? {s.is_empty()}\")"
   ]
  },
  {
   "cell_type": "markdown",
   "metadata": {},
   "source": [
    "## Visualizations"
   ]
  },
  {
   "cell_type": "code",
   "execution_count": null,
   "metadata": {},
   "outputs": [],
   "source": [
    "# Create new stack for visualization\n",
    "s = Stack()\n",
    "\n",
    "# Show empty stack\n",
    "print(\"Empty stack:\")\n",
    "s.visualize()\n",
    "\n",
    "# Push elements and show changes\n",
    "for i in range(1, 4):\n",
    "    s.push(i)\n",
    "print(\"\\nAfter pushing:\")\n",
    "s.visualize()\n",
    "\n",
    "# Pop and show changes\n",
    "s.pop()\n",
    "print(\"\\nAfter popping:\")\n",
    "s.visualize()"
   ]
  }
 ],
 "metadata": {
  "kernelspec": {
   "display_name": "Python 3",
   "language": "python",
   "name": "python3"
  }
 },
 "nbformat": 4,
 "nbformat_minor": 4
}