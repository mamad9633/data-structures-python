{
 "cells": [
  {
   "cell_type": "markdown",
   "metadata": {},
   "source": [
    "# Binary Search Tree Examples\n",
    "\n",
    "This notebook demonstrates both basic operations and visualizations for the Binary Search Tree data structure."
   ]
  },
  {
   "cell_type": "code",
   "execution_count": null,
   "metadata": {},
   "outputs": [],
   "source": [
    "from data_structures import BinarySearchTree\n",
    "import matplotlib.pyplot as plt"
   ]
  },
  {
   "cell_type": "markdown",
   "metadata": {},
   "source": [
    "## Basic Operations"
   ]
  },
  {
   "cell_type": "code",
   "execution_count": null,
   "metadata": {},
   "outputs": [],
   "source": [
    "# Create BST\n",
    "bst = BinarySearchTree()\n",
    "\n",
    "# Insert elements\n",
    "elements = [5, 3, 7, 2, 4, 6, 8]\n",
    "for e in elements:\n",
    "    bst.insert(e)\n",
    "\n",
    "# Search\n",
    "print(f\"Search for 4: {bst.search(4)}\")\n",
    "print(f\"Search for 9: {bst.search(9)}\")\n",
    "\n",
    "# Inorder traversal\n",
    "print(\"\\nInorder traversal:\")\n",
    "bst.inorder_traversal()"
   ]
  },
  {
   "cell_type": "markdown",
   "metadata": {},
   "source": [
    "## Visualizations"
   ]
  },
  {
   "cell_type": "code",
   "execution_count": null,
   "metadata": {},
   "outputs": [],
   "source": [
    "# Create new BST for visualization\n",
    "bst = BinarySearchTree()\n",
    "\n",
    "# Show empty tree\n",
    "print(\"Empty tree:\")\n",
    "bst.visualize()\n",
    "\n",
    "# Insert elements and show changes\n",
    "elements = [5, 3, 7, 2, 4]\n",
    "for e in elements:\n",
    "    bst.insert(e)\n",
    "print(\"\\nAfter insertions:\")\n",
    "bst.visualize()\n",
    "\n",
    "# Add more elements\n",
    "bst.insert(6)\n",
    "bst.insert(8)\n",
    "print(\"\\nFinal tree:\")\n",
    "bst.visualize()"
   ]
  }
 ],
 "metadata": {
  "kernelspec": {
   "display_name": "Python 3",
   "language": "python",
   "name": "python3"
  }
 },
 "nbformat": 4,
 "nbformat_minor": 4
}