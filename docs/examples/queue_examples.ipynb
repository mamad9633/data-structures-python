{
 "cells": [
  {
   "cell_type": "markdown",
   "metadata": {},
   "source": [
    "# Queue Data Structure Examples\n",
    "\n",
    "This notebook demonstrates both basic operations and visualizations for the Queue data structure."
   ]
  },
  {
   "cell_type": "code",
   "execution_count": null,
   "metadata": {},
   "outputs": [],
   "source": [
    "from data_structures import Queue\n",
    "import matplotlib.pyplot as plt"
   ]
  },
  {
   "cell_type": "markdown",
   "metadata": {},
   "source": [
    "## Basic Operations"
   ]
  },
  {
   "cell_type": "code",
   "execution_count": null,
   "metadata": {},
   "outputs": [],
   "source": [
    "# Create queue\n",
    "q = Queue()\n",
    "\n",
    "# Enqueue elements\n",
    "q.enqueue(1)\n",
    "q.enqueue(2)\n",
    "q.enqueue(3)\n",
    "\n",
    "# View front element\n",
    "print(f\"Front element: {q.peek()}\")\n",
    "\n",
    "# Dequeue\n",
    "removed = q.dequeue()\n",
    "print(f\"Dequeued element: {removed}\")\n",
    "\n",
    "# Check if empty\n",
    "print(f\"Is queue empty? {q.isEmpty()}\")"
   ]
  },
  {
   "cell_type": "markdown",
   "metadata": {},
   "source": [
    "## Visualizations"
   ]
  },
  {
   "cell_type": "code",
   "execution_count": null,
   "metadata": {},
   "outputs": [],
   "source": [
    "# Create new queue for visualization\n",
    "q = Queue()\n",
    "\n",
    "# Show empty queue\n",
    "print(\"Empty queue:\")\n",
    "q.visualize()\n",
    "\n",
    "# Add elements and show changes\n",
    "for i in range(1, 4):\n",
    "    q.enqueue(i)\n",
    "print(\"\\nAfter enqueuing:\")\n",
    "q.visualize()\n",
    "\n",
    "# Dequeue and show changes\n",
    "q.dequeue()\n",
    "print(\"\\nAfter dequeuing:\")\n",
    "q.visualize()"
   ]
  }
 ],
 "metadata": {
  "kernelspec": {
   "display_name": "Python 3",
   "language": "python",
   "name": "python3"
  }
 },
 "nbformat": 4,
 "nbformat_minor": 4
}