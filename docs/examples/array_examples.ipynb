{
 "cells": [
  {
   "cell_type": "markdown",
   "metadata": {},
   "source": [
    "# Array Data Structure Examples\n",
    "\n",
    "This notebook demonstrates both basic operations and visualizations for the Array data structure."
   ]
  },
  {
   "cell_type": "code",
   "execution_count": null,
   "metadata": {},
   "outputs": [],
   "source": [
    "from data_structures import Array\n",
    "import matplotlib.pyplot as plt"
   ]
  },
  {
   "cell_type": "markdown",
   "metadata": {},
   "source": [
    "## Basic Operations"
   ]
  },
  {
   "cell_type": "code",
   "execution_count": null,
   "metadata": {},
   "outputs": [],
   "source": [
    "# Create array\n",
    "arr = Array()\n",
    "\n",
    "# Insert elements\n",
    "arr.insert(5)\n",
    "arr.insert(10)\n",
    "arr.insert(15)\n",
    "\n",
    "# Access elements\n",
    "print(f\"Element at index 0: {arr.get(0)}\")\n",
    "\n",
    "# Search\n",
    "print(f\"Index of 10: {arr.search(10)}\")\n",
    "\n",
    "# Delete\n",
    "arr.delete(1)\n",
    "print(\"After deleting index 1:\")\n",
    "arr.traverse()"
   ]
  },
  {
   "cell_type": "markdown",
   "metadata": {},
   "source": [
    "## Visualizations"
   ]
  },
  {
   "cell_type": "code",
   "execution_count": null,
   "metadata": {},
   "outputs": [],
   "source": [
    "# Create new array for visualization\n",
    "arr = Array()\n",
    "for i in range(5):\n",
    "    arr.insert(i * 2)\n",
    "\n",
    "# Show initial state\n",
    "print(\"Initial array:\")\n",
    "arr.visualize()\n",
    "\n",
    "# Show after operations\n",
    "arr.insert(10)\n",
    "print(\"\\nAfter insertion:\")\n",
    "arr.visualize()\n",
    "\n",
    "arr.delete(2)\n",
    "print(\"\\nAfter deletion:\")\n",
    "arr.visualize()"
   ]
  }
 ],
 "metadata": {
  "kernelspec": {
   "display_name": "Python 3",
   "language": "python",
   "name": "python3"
  }
 },
 "nbformat": 4,
 "nbformat_minor": 4
}